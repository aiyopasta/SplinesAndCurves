{
 "cells": [
  {
   "cell_type": "markdown",
   "id": "13e2b15d",
   "metadata": {},
   "source": [
    "## Splines & Curves Sandbox"
   ]
  },
  {
   "cell_type": "code",
   "execution_count": 2,
   "id": "b120cf00",
   "metadata": {},
   "outputs": [
    {
     "data": {
      "text/plain": [
       "array([1, 2, 3, 5])"
      ]
     },
     "execution_count": 2,
     "metadata": {},
     "output_type": "execute_result"
    }
   ],
   "source": [
    "import numpy as np\n",
    "\n",
    "v = np.array([1, 2, 3])\n",
    "v = np.append(v, 5)\n",
    "v"
   ]
  },
  {
   "cell_type": "code",
   "execution_count": 3,
   "id": "855392ff",
   "metadata": {},
   "outputs": [
    {
     "data": {
      "text/plain": [
       "array([[ -2,  -5,  -8],\n",
       "       [ -3,  -6,  -9],\n",
       "       [ -4,  -7, -10]])"
      ]
     },
     "execution_count": 3,
     "metadata": {},
     "output_type": "execute_result"
    }
   ],
   "source": [
    "c1, c2, c3 = np.array([1, 2, 3]), np.array([4, 5, 6]), np.array([7, 8, 9])\n",
    "np.invert(np.array([c1, c2, c3]).T)"
   ]
  },
  {
   "cell_type": "code",
   "execution_count": 4,
   "id": "aa1535b8",
   "metadata": {},
   "outputs": [
    {
     "data": {
      "text/plain": [
       "array([-1,  1])"
      ]
     },
     "execution_count": 4,
     "metadata": {},
     "output_type": "execute_result"
    }
   ],
   "source": [
    "np.array([[0, -1], [1, 0]]).dot([1, 1])"
   ]
  },
  {
   "cell_type": "code",
   "execution_count": 5,
   "id": "d17133de",
   "metadata": {},
   "outputs": [
    {
     "name": "stderr",
     "output_type": "stream",
     "text": [
      "/var/folders/n6/__4xwp6930gdgr6t72wmry8m0000gn/T/ipykernel_98585/14888554.py:3: VisibleDeprecationWarning: Creating an ndarray from ragged nested sequences (which is a list-or-tuple of lists-or-tuples-or ndarrays with different lengths or shapes) is deprecated. If you meant to do this, you must specify 'dtype=object' when creating the ndarray.\n",
      "  cam_to_screen = np.array([[30, 0, 0, 0],\n"
     ]
    }
   ],
   "source": [
    "focus = 30.\n",
    "far_clip = 100.\n",
    "cam_to_screen = np.array([[30, 0, 0, 0],\n",
    "                          [0, 30, 0, 0],\n",
    "                          [0, 0, -100/(-100+30), (-100*30)/(-100+30), 0],\n",
    "                          [0, 0, 1, 0]])"
   ]
  },
  {
   "cell_type": "code",
   "execution_count": 6,
   "id": "d84fc640",
   "metadata": {},
   "outputs": [
    {
     "data": {
      "text/plain": [
       "array([ 4, 10])"
      ]
     },
     "execution_count": 6,
     "metadata": {},
     "output_type": "execute_result"
    }
   ],
   "source": [
    "np.array([1, 2]) * np.array([4, 5])"
   ]
  },
  {
   "cell_type": "code",
   "execution_count": 7,
   "id": "9b744dab",
   "metadata": {},
   "outputs": [
    {
     "data": {
      "text/plain": [
       "3"
      ]
     },
     "execution_count": 7,
     "metadata": {},
     "output_type": "execute_result"
    }
   ],
   "source": [
    "len(np.array([1, 1, 1]))"
   ]
  },
  {
   "cell_type": "code",
   "execution_count": 8,
   "id": "011d9f5a",
   "metadata": {},
   "outputs": [
    {
     "data": {
      "text/plain": [
       "array([1, 2, 3])"
      ]
     },
     "execution_count": 8,
     "metadata": {},
     "output_type": "execute_result"
    }
   ],
   "source": [
    "np.asarray((1, 2, 3))"
   ]
  },
  {
   "cell_type": "code",
   "execution_count": 16,
   "id": "0d7af173",
   "metadata": {},
   "outputs": [
    {
     "data": {
      "text/plain": [
       "[90.0,\n",
       " 108.0,\n",
       " 126.0,\n",
       " 144.0,\n",
       " 162.0,\n",
       " 180.0,\n",
       " 198.00000000000003,\n",
       " 216.00000000000003,\n",
       " 234.0,\n",
       " 252.0,\n",
       " 270.0]"
      ]
     },
     "execution_count": 16,
     "metadata": {},
     "output_type": "execute_result"
    }
   ],
   "source": [
    "def lerp(a, b, t):\n",
    "    return ((1-t) * a) + (t * b)\n",
    "\n",
    "def angular_lerp(a, b, t):\n",
    "    a %= 360\n",
    "    b %= 360\n",
    "    if a == b:\n",
    "        return a\n",
    "    \n",
    "    elif a < b:\n",
    "        if b - a <= 180:\n",
    "            return lerp(a, b, t)\n",
    "        \n",
    "        # Else b - a > 180\n",
    "        return a - lerp(0, 360 - b + a, t)\n",
    "    \n",
    "    # Else a > b\n",
    "    if a - b <= 180:\n",
    "        return \n",
    "\n",
    "    # Else a - b > 180\n",
    "    return ...\n",
    "            \n",
    "    \n",
    "\n",
    "    \n",
    "a = 90\n",
    "b = 270\n",
    "[angular_lerp(a, b, t) for t in np.arange(0, 1+0.1, 0.1)]"
   ]
  },
  {
   "cell_type": "code",
   "execution_count": null,
   "id": "a5fde94f",
   "metadata": {},
   "outputs": [],
   "source": []
  }
 ],
 "metadata": {
  "kernelspec": {
   "display_name": "Python 3 (ipykernel)",
   "language": "python",
   "name": "python3"
  },
  "language_info": {
   "codemirror_mode": {
    "name": "ipython",
    "version": 3
   },
   "file_extension": ".py",
   "mimetype": "text/x-python",
   "name": "python",
   "nbconvert_exporter": "python",
   "pygments_lexer": "ipython3",
   "version": "3.10.0"
  }
 },
 "nbformat": 4,
 "nbformat_minor": 5
}
